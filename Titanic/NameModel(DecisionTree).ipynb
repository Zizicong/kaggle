{
 "cells": [
  {
   "cell_type": "code",
   "execution_count": 1,
   "metadata": {},
   "outputs": [],
   "source": [
    "import matplotlib.pyplot as plt\n",
    "import numpy as np\n",
    "import pandas as pd\n",
    "from sklearn import tree\n",
    "from sklearn.model_selection import cross_val_score, GridSearchCV"
   ]
  },
  {
   "cell_type": "code",
   "execution_count": 2,
   "metadata": {},
   "outputs": [],
   "source": [
    "#读取数据，同时把乘客ID设置为索引，以免和自带的索引混淆\n",
    "train = pd.read_csv('./train.csv').set_index('PassengerId')\n",
    "test = pd.read_csv('./test.csv').set_index('PassengerId')"
   ]
  },
  {
   "cell_type": "code",
   "execution_count": 3,
   "metadata": {},
   "outputs": [],
   "source": [
    "#按行连接两个工作表，即上下拼接\n",
    "df = pd.concat([train, test])                #默认的axis = 0可以不写"
   ]
  },
  {
   "cell_type": "code",
   "execution_count": 4,
   "metadata": {},
   "outputs": [],
   "source": [
    "#新增一行提取Title信息和之前的类似\n",
    "df['Title'] = df['Name'].str.split(',').str[1].str.split('.').str[0].str.strip()            "
   ]
  },
  {
   "cell_type": "code",
   "execution_count": 5,
   "metadata": {},
   "outputs": [],
   "source": [
    "#接下来将女人和小孩直接定义为一项特征\n",
    "df['IsWomanOrChild'] = ((df['Title'] == 'Master') | (df['Sex']== 'female'))     #Title中有Master的都是小孩"
   ]
  },
  {
   "cell_type": "code",
   "execution_count": 6,
   "metadata": {},
   "outputs": [],
   "source": [
    "#提取名字中的姓氏\n",
    "df['LastName'] = df.Name.str.split(',').str[0]           "
   ]
  },
  {
   "cell_type": "markdown",
   "metadata": {},
   "source": [
    "从名字中可以看出小孩的年龄信息，以及各个乘客的家庭信息，后面将主要以女人小孩群体和家庭群体提取特征"
   ]
  },
  {
   "cell_type": "markdown",
   "metadata": {},
   "source": [
    "接下来是一种非常巧妙的处理方法，成年男性单独处理，女人小孩以家庭为单位处理"
   ]
  },
  {
   "cell_type": "code",
   "execution_count": 7,
   "metadata": {},
   "outputs": [
    {
     "data": {
      "text/html": [
       "<div>\n",
       "<style scoped>\n",
       "    .dataframe tbody tr th:only-of-type {\n",
       "        vertical-align: middle;\n",
       "    }\n",
       "\n",
       "    .dataframe tbody tr th {\n",
       "        vertical-align: top;\n",
       "    }\n",
       "\n",
       "    .dataframe thead th {\n",
       "        text-align: right;\n",
       "    }\n",
       "</style>\n",
       "<table border=\"1\" class=\"dataframe\">\n",
       "  <thead>\n",
       "    <tr style=\"text-align: right;\">\n",
       "      <th></th>\n",
       "      <th>0</th>\n",
       "      <th>1</th>\n",
       "    </tr>\n",
       "  </thead>\n",
       "  <tbody>\n",
       "    <tr>\n",
       "      <th>0</th>\n",
       "      <td>Abbing</td>\n",
       "      <td>PassengerId\n",
       "846    0.0\n",
       "Name: Survived, dtype: ...</td>\n",
       "    </tr>\n",
       "    <tr>\n",
       "      <th>1</th>\n",
       "      <td>Abbott</td>\n",
       "      <td>PassengerId\n",
       "280     1.0\n",
       "747     0.0\n",
       "1284    Na...</td>\n",
       "    </tr>\n",
       "    <tr>\n",
       "      <th>2</th>\n",
       "      <td>Abelseth</td>\n",
       "      <td>PassengerId\n",
       "949    NaN\n",
       "1237   NaN\n",
       "Name: Surviv...</td>\n",
       "    </tr>\n",
       "    <tr>\n",
       "      <th>3</th>\n",
       "      <td>Abelson</td>\n",
       "      <td>PassengerId\n",
       "309    0.0\n",
       "875    1.0\n",
       "Name: Surviv...</td>\n",
       "    </tr>\n",
       "    <tr>\n",
       "      <th>4</th>\n",
       "      <td>Abrahamsson</td>\n",
       "      <td>PassengerId\n",
       "1143   NaN\n",
       "Name: Survived, dtype: ...</td>\n",
       "    </tr>\n",
       "    <tr>\n",
       "      <th>...</th>\n",
       "      <td>...</td>\n",
       "      <td>...</td>\n",
       "    </tr>\n",
       "    <tr>\n",
       "      <th>870</th>\n",
       "      <td>de Mulder</td>\n",
       "      <td>PassengerId\n",
       "287    1.0\n",
       "Name: Survived, dtype: ...</td>\n",
       "    </tr>\n",
       "    <tr>\n",
       "      <th>871</th>\n",
       "      <td>de Pelsmaeker</td>\n",
       "      <td>PassengerId\n",
       "283    0.0\n",
       "Name: Survived, dtype: ...</td>\n",
       "    </tr>\n",
       "    <tr>\n",
       "      <th>872</th>\n",
       "      <td>del Carlo</td>\n",
       "      <td>PassengerId\n",
       "362    0.0\n",
       "907    NaN\n",
       "Name: Surviv...</td>\n",
       "    </tr>\n",
       "    <tr>\n",
       "      <th>873</th>\n",
       "      <td>van Billiard</td>\n",
       "      <td>PassengerId\n",
       "154     0.0\n",
       "1084    NaN\n",
       "1236    Na...</td>\n",
       "    </tr>\n",
       "    <tr>\n",
       "      <th>874</th>\n",
       "      <td>van Melkebeke</td>\n",
       "      <td>PassengerId\n",
       "869    0.0\n",
       "Name: Survived, dtype: ...</td>\n",
       "    </tr>\n",
       "  </tbody>\n",
       "</table>\n",
       "<p>875 rows × 2 columns</p>\n",
       "</div>"
      ],
      "text/plain": [
       "                 0                                                  1\n",
       "0           Abbing  PassengerId\n",
       "846    0.0\n",
       "Name: Survived, dtype: ...\n",
       "1           Abbott  PassengerId\n",
       "280     1.0\n",
       "747     0.0\n",
       "1284    Na...\n",
       "2         Abelseth  PassengerId\n",
       "949    NaN\n",
       "1237   NaN\n",
       "Name: Surviv...\n",
       "3          Abelson  PassengerId\n",
       "309    0.0\n",
       "875    1.0\n",
       "Name: Surviv...\n",
       "4      Abrahamsson  PassengerId\n",
       "1143   NaN\n",
       "Name: Survived, dtype: ...\n",
       "..             ...                                                ...\n",
       "870      de Mulder  PassengerId\n",
       "287    1.0\n",
       "Name: Survived, dtype: ...\n",
       "871  de Pelsmaeker  PassengerId\n",
       "283    0.0\n",
       "Name: Survived, dtype: ...\n",
       "872      del Carlo  PassengerId\n",
       "362    0.0\n",
       "907    NaN\n",
       "Name: Surviv...\n",
       "873   van Billiard  PassengerId\n",
       "154     0.0\n",
       "1084    NaN\n",
       "1236    Na...\n",
       "874  van Melkebeke  PassengerId\n",
       "869    0.0\n",
       "Name: Survived, dtype: ...\n",
       "\n",
       "[875 rows x 2 columns]"
      ]
     },
     "execution_count": 7,
     "metadata": {},
     "output_type": "execute_result"
    }
   ],
   "source": [
    "#以家庭为单位\n",
    "family = df.groupby(['LastName'])['Survived']\n",
    "pd.DataFrame(family)"
   ]
  },
  {
   "cell_type": "code",
   "execution_count": 8,
   "metadata": {},
   "outputs": [],
   "source": [
    "#女人小孩的生存情况统计出自己以外的，对于生存状况位置的以0填充\n",
    "df['FamilyTotalCount'] = family.transform(lambda s: s[df['IsWomanOrChild']].fillna(0).count())  #s[df['IsWomanOrChild']]表示筛选是否为女人或者小孩\n",
    "df['FamilyTotalCount'] = df.mask(df['IsWomanOrChild'], df['FamilyTotalCount'] - 1, axis=0)    #如果是女人或者小孩，家庭人数减去1，如果是男性，保持原来的数值survied"
   ]
  },
  {
   "cell_type": "code",
   "execution_count": 9,
   "metadata": {},
   "outputs": [],
   "source": [
    "#女人小孩的家庭总人数只统计女人小孩的，位置生存状况的按照0来算；成年男性的按照survived的情况来，也就是不变\n",
    "\n",
    "df['FamilySurvivedCount'] = family.transform(lambda s: s[df['IsWomanOrChild']].fillna(0).sum())   \n",
    "df['FamilySurvivedCount'] = df.mask(df['IsWomanOrChild'], df['FamilySurvivedCount'] - df['Survived'].fillna(0), axis=0)     \n",
    "df['FamilySurvivalRate'] = (df['FamilySurvivedCount'] / df['FamilyTotalCount'].replace(0, np.nan))    #这里replace主要针对的是死亡的成年男性，因为其家庭总人数为0\n"
   ]
  },
  {
   "cell_type": "code",
   "execution_count": 10,
   "metadata": {},
   "outputs": [],
   "source": [
    "#df['FamilyTotalCount'] == 0也就是所有死亡的男性，df['FamilyTotalCount'] == 1则是所有活下来的男性\n",
    "df['IsSingleTraveler'] = df['FamilyTotalCount'] == 0"
   ]
  },
  {
   "cell_type": "code",
   "execution_count": 11,
   "metadata": {},
   "outputs": [],
   "source": [
    "#构建特征集\n",
    "feature = pd.concat(\n",
    "    [df['FamilySurvivalRate'].fillna(0),\n",
    "     df['IsSingleTraveler'],\n",
    "     df['Sex'].replace({'male': 0, 'female': 1})],axis = 1)"
   ]
  },
  {
   "cell_type": "code",
   "execution_count": 12,
   "metadata": {},
   "outputs": [
    {
     "data": {
      "text/html": [
       "<div>\n",
       "<style scoped>\n",
       "    .dataframe tbody tr th:only-of-type {\n",
       "        vertical-align: middle;\n",
       "    }\n",
       "\n",
       "    .dataframe tbody tr th {\n",
       "        vertical-align: top;\n",
       "    }\n",
       "\n",
       "    .dataframe thead th {\n",
       "        text-align: right;\n",
       "    }\n",
       "</style>\n",
       "<table border=\"1\" class=\"dataframe\">\n",
       "  <thead>\n",
       "    <tr style=\"text-align: right;\">\n",
       "      <th></th>\n",
       "      <th>FamilySurvivalRate</th>\n",
       "      <th>IsSingleTraveler</th>\n",
       "      <th>Sex</th>\n",
       "    </tr>\n",
       "    <tr>\n",
       "      <th>PassengerId</th>\n",
       "      <th></th>\n",
       "      <th></th>\n",
       "      <th></th>\n",
       "    </tr>\n",
       "  </thead>\n",
       "  <tbody>\n",
       "    <tr>\n",
       "      <th>1</th>\n",
       "      <td>0.0</td>\n",
       "      <td>True</td>\n",
       "      <td>0</td>\n",
       "    </tr>\n",
       "    <tr>\n",
       "      <th>2</th>\n",
       "      <td>0.0</td>\n",
       "      <td>True</td>\n",
       "      <td>1</td>\n",
       "    </tr>\n",
       "    <tr>\n",
       "      <th>3</th>\n",
       "      <td>0.0</td>\n",
       "      <td>True</td>\n",
       "      <td>1</td>\n",
       "    </tr>\n",
       "    <tr>\n",
       "      <th>4</th>\n",
       "      <td>0.0</td>\n",
       "      <td>True</td>\n",
       "      <td>1</td>\n",
       "    </tr>\n",
       "    <tr>\n",
       "      <th>5</th>\n",
       "      <td>0.0</td>\n",
       "      <td>True</td>\n",
       "      <td>0</td>\n",
       "    </tr>\n",
       "    <tr>\n",
       "      <th>...</th>\n",
       "      <td>...</td>\n",
       "      <td>...</td>\n",
       "      <td>...</td>\n",
       "    </tr>\n",
       "    <tr>\n",
       "      <th>887</th>\n",
       "      <td>0.0</td>\n",
       "      <td>True</td>\n",
       "      <td>0</td>\n",
       "    </tr>\n",
       "    <tr>\n",
       "      <th>888</th>\n",
       "      <td>1.0</td>\n",
       "      <td>False</td>\n",
       "      <td>1</td>\n",
       "    </tr>\n",
       "    <tr>\n",
       "      <th>889</th>\n",
       "      <td>0.0</td>\n",
       "      <td>False</td>\n",
       "      <td>1</td>\n",
       "    </tr>\n",
       "    <tr>\n",
       "      <th>890</th>\n",
       "      <td>1.0</td>\n",
       "      <td>False</td>\n",
       "      <td>0</td>\n",
       "    </tr>\n",
       "    <tr>\n",
       "      <th>891</th>\n",
       "      <td>0.0</td>\n",
       "      <td>True</td>\n",
       "      <td>0</td>\n",
       "    </tr>\n",
       "  </tbody>\n",
       "</table>\n",
       "<p>891 rows × 3 columns</p>\n",
       "</div>"
      ],
      "text/plain": [
       "             FamilySurvivalRate  IsSingleTraveler  Sex\n",
       "PassengerId                                           \n",
       "1                           0.0              True    0\n",
       "2                           0.0              True    1\n",
       "3                           0.0              True    1\n",
       "4                           0.0              True    1\n",
       "5                           0.0              True    0\n",
       "...                         ...               ...  ...\n",
       "887                         0.0              True    0\n",
       "888                         1.0             False    1\n",
       "889                         0.0             False    1\n",
       "890                         1.0             False    0\n",
       "891                         0.0              True    0\n",
       "\n",
       "[891 rows x 3 columns]"
      ]
     },
     "execution_count": 12,
     "metadata": {},
     "output_type": "execute_result"
    }
   ],
   "source": [
    "#构造训练集和测试集\n",
    "x_train, x_test = feature.loc[train.index],  feature.loc[test.index]\n",
    "x_train"
   ]
  },
  {
   "cell_type": "code",
   "execution_count": 13,
   "metadata": {},
   "outputs": [],
   "source": [
    "#构造标签集\n",
    "y_train = df['Survived'].loc[train.index]"
   ]
  },
  {
   "cell_type": "code",
   "execution_count": 14,
   "metadata": {},
   "outputs": [
    {
     "data": {
      "text/plain": [
       "{'criterion': 'gini', 'max_depth': 3}"
      ]
     },
     "execution_count": 14,
     "metadata": {},
     "output_type": "execute_result"
    }
   ],
   "source": [
    "clf = tree.DecisionTreeClassifier()\n",
    "grid = GridSearchCV(clf, cv=5, param_grid={\n",
    "    'criterion': ['gini', 'entropy'], \n",
    "    'max_depth': [2, 3, 4, 5]})\n",
    "grid.fit(x_train, y_train)\n",
    "grid.best_params_"
   ]
  },
  {
   "cell_type": "code",
   "execution_count": 15,
   "metadata": {},
   "outputs": [],
   "source": [
    "model = grid.best_estimator_"
   ]
  },
  {
   "cell_type": "code",
   "execution_count": 16,
   "metadata": {},
   "outputs": [],
   "source": [
    "y_predict = model.predict(x_test).astype(int)\n",
    "pd.DataFrame({'Survived': y_predict}, index=test.index) \\\n",
    ".reset_index() \\\n",
    ".to_csv(f'survived.csv', index=False)"
   ]
  },
  {
   "cell_type": "markdown",
   "metadata": {},
   "source": [
    "这种方法虽然简单但是非常有效，没有像之前一样的很复杂地去填充缺失值，也没有很复杂地分段处理，而是很真实参考了实际生活中的场景，以家庭为单位，妇女小孩优先，非常有效地做出了预测；充分挖掘了名字当中含有的特征，以家庭为单位估计女人小孩的生存状况，但是也比较极端，基本默认测试机中成年男性的生存率为0；"
   ]
  },
  {
   "cell_type": "markdown",
   "metadata": {},
   "source": [
    "最后在kaggle上有着0.80382的准确率，排名前7%。"
   ]
  }
 ],
 "metadata": {
  "kernelspec": {
   "display_name": "Python 3",
   "language": "python",
   "name": "python3"
  },
  "language_info": {
   "codemirror_mode": {
    "name": "ipython",
    "version": 3
   },
   "file_extension": ".py",
   "mimetype": "text/x-python",
   "name": "python",
   "nbconvert_exporter": "python",
   "pygments_lexer": "ipython3",
   "version": "3.7.7"
  }
 },
 "nbformat": 4,
 "nbformat_minor": 4
}
